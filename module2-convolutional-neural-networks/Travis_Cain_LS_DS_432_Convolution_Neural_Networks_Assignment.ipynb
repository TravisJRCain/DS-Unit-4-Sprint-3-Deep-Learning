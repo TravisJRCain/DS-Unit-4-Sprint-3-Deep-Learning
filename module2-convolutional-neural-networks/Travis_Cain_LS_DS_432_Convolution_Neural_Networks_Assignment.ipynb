{
  "nbformat": 4,
  "nbformat_minor": 0,
  "metadata": {
    "kernelspec": {
      "display_name": "U4-S2-NNF-DS10",
      "language": "python",
      "name": "u4-s2-nnf-ds10"
    },
    "language_info": {
      "codemirror_mode": {
        "name": "ipython",
        "version": 3
      },
      "file_extension": ".py",
      "mimetype": "text/x-python",
      "name": "python",
      "nbconvert_exporter": "python",
      "pygments_lexer": "ipython3",
      "version": "3.7.6"
    },
    "nteract": {
      "version": "0.23.1"
    },
    "colab": {
      "name": "Travis_Cain_LS_DS_432_Convolution_Neural_Networks_Assignment.ipynb",
      "provenance": [],
      "include_colab_link": true
    },
    "accelerator": "GPU"
  },
  "cells": [
    {
      "cell_type": "markdown",
      "metadata": {
        "id": "view-in-github",
        "colab_type": "text"
      },
      "source": [
        "<a href=\"https://colab.research.google.com/github/TravisJRCain/DS-Unit-4-Sprint-3-Deep-Learning/blob/master/module2-convolutional-neural-networks/Travis_Cain_LS_DS_432_Convolution_Neural_Networks_Assignment.ipynb\" target=\"_parent\"><img src=\"https://colab.research.google.com/assets/colab-badge.svg\" alt=\"Open In Colab\"/></a>"
      ]
    },
    {
      "cell_type": "markdown",
      "metadata": {
        "id": "8QeZVWGE6Tbz",
        "colab_type": "text"
      },
      "source": [
        "<img align=\"left\" src=\"https://lever-client-logos.s3.amazonaws.com/864372b1-534c-480e-acd5-9711f850815c-1524247202159.png\" width=200>\n",
        "<br></br>\n",
        "<br></br>\n",
        "\n",
        "## *Data Science Unit 4 Sprint 3 Assignment 2*\n",
        "# Convolutional Neural Networks (CNNs)"
      ]
    },
    {
      "cell_type": "markdown",
      "metadata": {
        "colab_type": "text",
        "id": "0lfZdD_cp1t5"
      },
      "source": [
        "# Assignment\n",
        "\n",
        "- <a href=\"#p1\">Part 1:</a> Pre-Trained Model\n",
        "- <a href=\"#p2\">Part 2:</a> Custom CNN Model\n",
        "- <a href=\"#p3\">Part 3:</a> CNN with Data Augmentation\n",
        "\n",
        "\n",
        "You will apply three different CNN models to a binary image classification model using Keras. Classify images of Mountains (`./data/train/mountain/*`) and images of forests (`./data/train/forest/*`). Treat mountains as the positive class (1) and the forest images as the negative (zero). \n",
        "\n",
        "|Mountain (+)|Forest (-)|\n",
        "|---|---|\n",
        "|![](https://github.com/TravisJRCain/DS-Unit-4-Sprint-3-Deep-Learning/blob/master/module2-convolutional-neural-networks/data/train/mountain/art1131.jpg?raw=1)|![](https://github.com/TravisJRCain/DS-Unit-4-Sprint-3-Deep-Learning/blob/master/module2-convolutional-neural-networks/data/validation/forest/cdmc317.jpg?raw=1)|\n",
        "\n",
        "The problem is relatively difficult given that the sample is tiny: there are about 350 observations per class. This sample size might be something that you can expect with prototyping an image classification problem/solution at work. Get accustomed to evaluating several different possible models."
      ]
    },
    {
      "cell_type": "markdown",
      "metadata": {
        "colab_type": "text",
        "id": "BzHuo5qk6TcE"
      },
      "source": [
        "# Pre - Trained Model\n",
        "<a id=\"p1\"></a>\n",
        "\n",
        "Load a pretrained network from Keras, [ResNet50](https://tfhub.dev/google/imagenet/resnet_v1_50/classification/1) - a 50 layer deep network trained to recognize [1000 objects](https://storage.googleapis.com/download.tensorflow.org/data/ImageNetLabels.txt). Starting usage:\n",
        "\n",
        "```python\n",
        "import numpy as np\n",
        "\n",
        "from tensorflow.keras.applications.resnet50 import ResNet50\n",
        "from tensorflow.keras.preprocessing import image\n",
        "from tensorflow.keras.applications.resnet50 import preprocess_input, decode_predictions\n",
        "\n",
        "from tensorflow.keras.layers import Dense, GlobalAveragePooling2D\n",
        "from tensorflow.keras.models import Model # This is the functional API\n",
        "\n",
        "resnet = ResNet50(weights='imagenet', include_top=False)\n",
        "\n",
        "```\n",
        "\n",
        "The `include_top` parameter in `ResNet50` will remove the full connected layers from the ResNet model. The next step is to turn off the training of the ResNet layers. We want to use the learned parameters without updating them in future training passes. \n",
        "\n",
        "```python\n",
        "for layer in resnet.layers:\n",
        "    layer.trainable = False\n",
        "```\n",
        "\n",
        "Using the Keras functional API, we will need to additional additional full connected layers to our model. We we removed the top layers, we removed all preivous fully connected layers. In other words, we kept only the feature processing portions of our network. You can expert with additional layers beyond what's listed here. The `GlobalAveragePooling2D` layer functions as a really fancy flatten function by taking the average of each of the last convolutional layer outputs (which is two dimensional still). \n",
        "\n",
        "```python\n",
        "x = resnet.output\n",
        "x = GlobalAveragePooling2D()(x) # This layer is a really fancy flatten\n",
        "x = Dense(1024, activation='relu')(x)\n",
        "predictions = Dense(1, activation='sigmoid')(x)\n",
        "model = Model(resnet.input, predictions)\n",
        "```\n",
        "\n",
        "Your assignment is to apply the transfer learning above to classify images of Mountains (`./data/train/mountain/*`) and images of forests (`./data/train/forest/*`). Treat mountains as the positive class (1) and the forest images as the negative (zero). \n",
        "\n",
        "Steps to complete assignment: \n",
        "1. Load in Image Data into numpy arrays (`X`) \n",
        "2. Create a `y` for the labels\n",
        "3. Train your model with pre-trained layers from resnet\n",
        "4. Report your model's accuracy"
      ]
    },
    {
      "cell_type": "markdown",
      "metadata": {
        "id": "JKjJ0_bF6TcT",
        "colab_type": "text"
      },
      "source": [
        "## Load in Data\n",
        "\n",
        "This surprisingly more difficult than it seems, because you are working with directories of images instead of a single file. This boiler plate will help you download a zipped version of the directory of images. The directory is organized into \"train\" and \"validation\" which you can use inside an `ImageGenerator` class to stream batches of images thru your model.  \n"
      ]
    },
    {
      "cell_type": "markdown",
      "metadata": {
        "id": "sv1IkzqT6TcW",
        "colab_type": "text"
      },
      "source": [
        "### Download & Summarize the Data\n",
        "\n",
        "This step is completed for you. Just run the cells and review the results. "
      ]
    },
    {
      "cell_type": "code",
      "metadata": {
        "id": "vsDEkOae6TcX",
        "colab_type": "code",
        "colab": {
          "base_uri": "https://localhost:8080/",
          "height": 51
        },
        "outputId": "40b9c4fd-2294-4dbd-911b-7da0027c17e5"
      },
      "source": [
        "import tensorflow as tf\n",
        "import os\n",
        "import numpy as np\n",
        "import matplotlib.pyplot as plt\n",
        "from tensorflow.keras.applications.resnet50 import ResNet50\n",
        "from tensorflow.keras.preprocessing import image\n",
        "from tensorflow.keras.layers import Dense, GlobalAveragePooling2D\n",
        "from tensorflow.keras.models import Model\n",
        "from IPython.display import display\n",
        "from IPython.display import Image as _Imgdis\n",
        "from PIL import Image\n",
        "\n",
        "_URL = 'https://github.com/LambdaSchool/DS-Unit-4-Sprint-3-Deep-Learning/blob/master/module2-convolutional-neural-networks/data.zip?raw=true'\n",
        "\n",
        "path_to_zip = tf.keras.utils.get_file('./data.zip', origin=_URL, extract=True)\n",
        "PATH = os.path.join(os.path.dirname(path_to_zip), 'data')"
      ],
      "execution_count": 2,
      "outputs": [
        {
          "output_type": "stream",
          "text": [
            "Downloading data from https://github.com/LambdaSchool/DS-Unit-4-Sprint-3-Deep-Learning/blob/master/module2-convolutional-neural-networks/data.zip?raw=true\n",
            "42172416/42170838 [==============================] - 0s 0us/step\n"
          ],
          "name": "stdout"
        }
      ]
    },
    {
      "cell_type": "code",
      "metadata": {
        "id": "ODgW63AG6TdB",
        "colab_type": "code",
        "colab": {}
      },
      "source": [
        "train_dir = os.path.join(PATH, 'train')\n",
        "validation_dir = os.path.join(PATH, 'validation')"
      ],
      "execution_count": 3,
      "outputs": []
    },
    {
      "cell_type": "code",
      "metadata": {
        "id": "rvaeSqaO6Tda",
        "colab_type": "code",
        "colab": {}
      },
      "source": [
        "train_mountain_dir = os.path.join(train_dir, 'mountain')  # directory with our training cat pictures\n",
        "train_forest_dir = os.path.join(train_dir, 'forest')  # directory with our training dog pictures\n",
        "validation_mountain_dir = os.path.join(validation_dir, 'mountain')  # directory with our validation cat pictures\n",
        "validation_forest_dir = os.path.join(validation_dir, 'forest')  # directory with our validation dog pictures"
      ],
      "execution_count": 4,
      "outputs": []
    },
    {
      "cell_type": "code",
      "metadata": {
        "id": "8iLcfrlt6Tdm",
        "colab_type": "code",
        "colab": {}
      },
      "source": [
        "num_mountain_tr = len(os.listdir(train_mountain_dir))\n",
        "num_forest_tr = len(os.listdir(train_forest_dir))\n",
        "\n",
        "num_mountain_val = len(os.listdir(validation_mountain_dir))\n",
        "num_forest_val = len(os.listdir(validation_forest_dir))\n",
        "\n",
        "total_train = num_mountain_tr + num_forest_tr\n",
        "total_val = num_mountain_val + num_forest_val"
      ],
      "execution_count": 5,
      "outputs": []
    },
    {
      "cell_type": "code",
      "metadata": {
        "id": "oWabJ4r_6Tds",
        "colab_type": "code",
        "colab": {
          "base_uri": "https://localhost:8080/",
          "height": 136
        },
        "outputId": "bafd3e9b-29cc-420d-c1da-7771990c1966"
      },
      "source": [
        "print('total training mountain images:', num_mountain_tr)\n",
        "print('total training forest images:', num_forest_tr)\n",
        "\n",
        "print('total validation mountain images:', num_mountain_val)\n",
        "print('total validation forest images:', num_forest_val)\n",
        "print(\"--\")\n",
        "print(\"Total training images:\", total_train)\n",
        "print(\"Total validation images:\", total_val)"
      ],
      "execution_count": 6,
      "outputs": [
        {
          "output_type": "stream",
          "text": [
            "total training mountain images: 254\n",
            "total training forest images: 270\n",
            "total validation mountain images: 125\n",
            "total validation forest images: 62\n",
            "--\n",
            "Total training images: 524\n",
            "Total validation images: 187\n"
          ],
          "name": "stdout"
        }
      ]
    },
    {
      "cell_type": "markdown",
      "metadata": {
        "id": "ksCD-sr36Td8",
        "colab_type": "text"
      },
      "source": [
        "### Keras `ImageGenerator` to Process the Data\n",
        "\n",
        "This step is completed for you, but please review the code. The `ImageGenerator` class reads in batches of data from a directory and pass them to the model one batch at a time. Just like large text files, this method is advantageous, because it stifles the need to load a bunch of images into memory. \n",
        "\n",
        "Check out the documentation for this class method: [Keras `ImageGenerator` Class](https://keras.io/preprocessing/image/#imagedatagenerator-class). You'll expand it's use in the third assignment objective."
      ]
    },
    {
      "cell_type": "code",
      "metadata": {
        "id": "FOnWGpHG6Td9",
        "colab_type": "code",
        "colab": {}
      },
      "source": [
        "batch_size = 16\n",
        "epochs = 50\n",
        "IMG_HEIGHT = 224\n",
        "IMG_WIDTH = 224"
      ],
      "execution_count": 7,
      "outputs": []
    },
    {
      "cell_type": "code",
      "metadata": {
        "id": "nfO9AXF_6TeH",
        "colab_type": "code",
        "colab": {}
      },
      "source": [
        "from tensorflow.keras.preprocessing.image import ImageDataGenerator\n",
        "\n",
        "train_image_generator = ImageDataGenerator(rescale=1./255) # Generator for our training data\n",
        "validation_image_generator = ImageDataGenerator(rescale=1./255) # Generator for our validation data"
      ],
      "execution_count": 8,
      "outputs": []
    },
    {
      "cell_type": "code",
      "metadata": {
        "id": "dwaERrzo6TeM",
        "colab_type": "code",
        "colab": {
          "base_uri": "https://localhost:8080/",
          "height": 34
        },
        "outputId": "f9369474-fc5c-41ba-e090-eb5b7b18223e"
      },
      "source": [
        "train_data_gen = train_image_generator.flow_from_directory(batch_size=batch_size,\n",
        "                                                           directory=train_dir,\n",
        "                                                           shuffle=True,\n",
        "                                                           target_size=(IMG_HEIGHT, IMG_WIDTH),\n",
        "                                                           class_mode='binary')"
      ],
      "execution_count": 9,
      "outputs": [
        {
          "output_type": "stream",
          "text": [
            "Found 533 images belonging to 2 classes.\n"
          ],
          "name": "stdout"
        }
      ]
    },
    {
      "cell_type": "code",
      "metadata": {
        "id": "gk8eQ34w6TgF",
        "colab_type": "code",
        "colab": {
          "base_uri": "https://localhost:8080/",
          "height": 34
        },
        "outputId": "d0cf7853-b504-48da-8a94-dd08b94ddec2"
      },
      "source": [
        "val_data_gen = validation_image_generator.flow_from_directory(batch_size=batch_size,\n",
        "                                                              directory=validation_dir,\n",
        "                                                              target_size=(IMG_HEIGHT, IMG_WIDTH),\n",
        "                                                              class_mode='binary')"
      ],
      "execution_count": 10,
      "outputs": [
        {
          "output_type": "stream",
          "text": [
            "Found 195 images belonging to 2 classes.\n"
          ],
          "name": "stdout"
        }
      ]
    },
    {
      "cell_type": "markdown",
      "metadata": {
        "id": "wIffFA4S6Tgb",
        "colab_type": "text"
      },
      "source": [
        "## Instatiate Model"
      ]
    },
    {
      "cell_type": "code",
      "metadata": {
        "id": "nai968wg6Tgm",
        "colab_type": "code",
        "colab": {
          "base_uri": "https://localhost:8080/",
          "height": 51
        },
        "outputId": "d37c4b90-486e-4de1-896f-9fe13d3b373e"
      },
      "source": [
        "resnet = ResNet50(weights='imagenet', include_top=False)\n",
        "\n",
        "for layer in resnet.layers:\n",
        "  layer.trainable = False\n",
        "\n",
        "x = resnet.output\n",
        "x = GlobalAveragePooling2D()(x)\n",
        "x = Dense(1024, activation='relu')(x)\n",
        "\n",
        "predictions = Dense(1, activation='sigmoid')(x)\n",
        "model = Model(resnet.input, predictions)"
      ],
      "execution_count": 12,
      "outputs": [
        {
          "output_type": "stream",
          "text": [
            "Downloading data from https://storage.googleapis.com/tensorflow/keras-applications/resnet/resnet50_weights_tf_dim_ordering_tf_kernels_notop.h5\n",
            "94773248/94765736 [==============================] - 1s 0us/step\n"
          ],
          "name": "stdout"
        }
      ]
    },
    {
      "cell_type": "code",
      "metadata": {
        "id": "xDaaAo0hkRys",
        "colab_type": "code",
        "colab": {}
      },
      "source": [
        "def process_img_path(img_path):\n",
        "  return image.load_img(img_path, target_size=(224, 224))\n",
        "\n",
        "def img_contains_mountain(img):\n",
        "  x = image.img_to_array(img)\n",
        "  x = np.expand_dims(x, axis=0)\n",
        "  x = preprocess_input(x)\n",
        "  model = ResNet50(weights='imagenet')\n",
        "  features = model.predict(x)\n",
        "  results = decode_predictions(features, top=3)[0]\n",
        "  print(results)\n",
        "  for entry in results:\n",
        "    if entry[1] == 'mountain':\n",
        "      return entry[2]\n",
        "    return 0.0"
      ],
      "execution_count": 14,
      "outputs": []
    },
    {
      "cell_type": "code",
      "metadata": {
        "id": "UNgI4y40k8XY",
        "colab_type": "code",
        "colab": {
          "base_uri": "https://localhost:8080/",
          "height": 1000
        },
        "outputId": "e1e75a3e-4c18-4da0-b631-b318578e72d1"
      },
      "source": [
        "model.compile(optimizer='adam', loss='binary_crossentropy',\n",
        "              metrics=['accuracy'])\n",
        "\n",
        "model.summary()"
      ],
      "execution_count": 15,
      "outputs": [
        {
          "output_type": "stream",
          "text": [
            "Model: \"model\"\n",
            "__________________________________________________________________________________________________\n",
            "Layer (type)                    Output Shape         Param #     Connected to                     \n",
            "==================================================================================================\n",
            "input_1 (InputLayer)            [(None, None, None,  0                                            \n",
            "__________________________________________________________________________________________________\n",
            "conv1_pad (ZeroPadding2D)       (None, None, None, 3 0           input_1[0][0]                    \n",
            "__________________________________________________________________________________________________\n",
            "conv1_conv (Conv2D)             (None, None, None, 6 9472        conv1_pad[0][0]                  \n",
            "__________________________________________________________________________________________________\n",
            "conv1_bn (BatchNormalization)   (None, None, None, 6 256         conv1_conv[0][0]                 \n",
            "__________________________________________________________________________________________________\n",
            "conv1_relu (Activation)         (None, None, None, 6 0           conv1_bn[0][0]                   \n",
            "__________________________________________________________________________________________________\n",
            "pool1_pad (ZeroPadding2D)       (None, None, None, 6 0           conv1_relu[0][0]                 \n",
            "__________________________________________________________________________________________________\n",
            "pool1_pool (MaxPooling2D)       (None, None, None, 6 0           pool1_pad[0][0]                  \n",
            "__________________________________________________________________________________________________\n",
            "conv2_block1_1_conv (Conv2D)    (None, None, None, 6 4160        pool1_pool[0][0]                 \n",
            "__________________________________________________________________________________________________\n",
            "conv2_block1_1_bn (BatchNormali (None, None, None, 6 256         conv2_block1_1_conv[0][0]        \n",
            "__________________________________________________________________________________________________\n",
            "conv2_block1_1_relu (Activation (None, None, None, 6 0           conv2_block1_1_bn[0][0]          \n",
            "__________________________________________________________________________________________________\n",
            "conv2_block1_2_conv (Conv2D)    (None, None, None, 6 36928       conv2_block1_1_relu[0][0]        \n",
            "__________________________________________________________________________________________________\n",
            "conv2_block1_2_bn (BatchNormali (None, None, None, 6 256         conv2_block1_2_conv[0][0]        \n",
            "__________________________________________________________________________________________________\n",
            "conv2_block1_2_relu (Activation (None, None, None, 6 0           conv2_block1_2_bn[0][0]          \n",
            "__________________________________________________________________________________________________\n",
            "conv2_block1_0_conv (Conv2D)    (None, None, None, 2 16640       pool1_pool[0][0]                 \n",
            "__________________________________________________________________________________________________\n",
            "conv2_block1_3_conv (Conv2D)    (None, None, None, 2 16640       conv2_block1_2_relu[0][0]        \n",
            "__________________________________________________________________________________________________\n",
            "conv2_block1_0_bn (BatchNormali (None, None, None, 2 1024        conv2_block1_0_conv[0][0]        \n",
            "__________________________________________________________________________________________________\n",
            "conv2_block1_3_bn (BatchNormali (None, None, None, 2 1024        conv2_block1_3_conv[0][0]        \n",
            "__________________________________________________________________________________________________\n",
            "conv2_block1_add (Add)          (None, None, None, 2 0           conv2_block1_0_bn[0][0]          \n",
            "                                                                 conv2_block1_3_bn[0][0]          \n",
            "__________________________________________________________________________________________________\n",
            "conv2_block1_out (Activation)   (None, None, None, 2 0           conv2_block1_add[0][0]           \n",
            "__________________________________________________________________________________________________\n",
            "conv2_block2_1_conv (Conv2D)    (None, None, None, 6 16448       conv2_block1_out[0][0]           \n",
            "__________________________________________________________________________________________________\n",
            "conv2_block2_1_bn (BatchNormali (None, None, None, 6 256         conv2_block2_1_conv[0][0]        \n",
            "__________________________________________________________________________________________________\n",
            "conv2_block2_1_relu (Activation (None, None, None, 6 0           conv2_block2_1_bn[0][0]          \n",
            "__________________________________________________________________________________________________\n",
            "conv2_block2_2_conv (Conv2D)    (None, None, None, 6 36928       conv2_block2_1_relu[0][0]        \n",
            "__________________________________________________________________________________________________\n",
            "conv2_block2_2_bn (BatchNormali (None, None, None, 6 256         conv2_block2_2_conv[0][0]        \n",
            "__________________________________________________________________________________________________\n",
            "conv2_block2_2_relu (Activation (None, None, None, 6 0           conv2_block2_2_bn[0][0]          \n",
            "__________________________________________________________________________________________________\n",
            "conv2_block2_3_conv (Conv2D)    (None, None, None, 2 16640       conv2_block2_2_relu[0][0]        \n",
            "__________________________________________________________________________________________________\n",
            "conv2_block2_3_bn (BatchNormali (None, None, None, 2 1024        conv2_block2_3_conv[0][0]        \n",
            "__________________________________________________________________________________________________\n",
            "conv2_block2_add (Add)          (None, None, None, 2 0           conv2_block1_out[0][0]           \n",
            "                                                                 conv2_block2_3_bn[0][0]          \n",
            "__________________________________________________________________________________________________\n",
            "conv2_block2_out (Activation)   (None, None, None, 2 0           conv2_block2_add[0][0]           \n",
            "__________________________________________________________________________________________________\n",
            "conv2_block3_1_conv (Conv2D)    (None, None, None, 6 16448       conv2_block2_out[0][0]           \n",
            "__________________________________________________________________________________________________\n",
            "conv2_block3_1_bn (BatchNormali (None, None, None, 6 256         conv2_block3_1_conv[0][0]        \n",
            "__________________________________________________________________________________________________\n",
            "conv2_block3_1_relu (Activation (None, None, None, 6 0           conv2_block3_1_bn[0][0]          \n",
            "__________________________________________________________________________________________________\n",
            "conv2_block3_2_conv (Conv2D)    (None, None, None, 6 36928       conv2_block3_1_relu[0][0]        \n",
            "__________________________________________________________________________________________________\n",
            "conv2_block3_2_bn (BatchNormali (None, None, None, 6 256         conv2_block3_2_conv[0][0]        \n",
            "__________________________________________________________________________________________________\n",
            "conv2_block3_2_relu (Activation (None, None, None, 6 0           conv2_block3_2_bn[0][0]          \n",
            "__________________________________________________________________________________________________\n",
            "conv2_block3_3_conv (Conv2D)    (None, None, None, 2 16640       conv2_block3_2_relu[0][0]        \n",
            "__________________________________________________________________________________________________\n",
            "conv2_block3_3_bn (BatchNormali (None, None, None, 2 1024        conv2_block3_3_conv[0][0]        \n",
            "__________________________________________________________________________________________________\n",
            "conv2_block3_add (Add)          (None, None, None, 2 0           conv2_block2_out[0][0]           \n",
            "                                                                 conv2_block3_3_bn[0][0]          \n",
            "__________________________________________________________________________________________________\n",
            "conv2_block3_out (Activation)   (None, None, None, 2 0           conv2_block3_add[0][0]           \n",
            "__________________________________________________________________________________________________\n",
            "conv3_block1_1_conv (Conv2D)    (None, None, None, 1 32896       conv2_block3_out[0][0]           \n",
            "__________________________________________________________________________________________________\n",
            "conv3_block1_1_bn (BatchNormali (None, None, None, 1 512         conv3_block1_1_conv[0][0]        \n",
            "__________________________________________________________________________________________________\n",
            "conv3_block1_1_relu (Activation (None, None, None, 1 0           conv3_block1_1_bn[0][0]          \n",
            "__________________________________________________________________________________________________\n",
            "conv3_block1_2_conv (Conv2D)    (None, None, None, 1 147584      conv3_block1_1_relu[0][0]        \n",
            "__________________________________________________________________________________________________\n",
            "conv3_block1_2_bn (BatchNormali (None, None, None, 1 512         conv3_block1_2_conv[0][0]        \n",
            "__________________________________________________________________________________________________\n",
            "conv3_block1_2_relu (Activation (None, None, None, 1 0           conv3_block1_2_bn[0][0]          \n",
            "__________________________________________________________________________________________________\n",
            "conv3_block1_0_conv (Conv2D)    (None, None, None, 5 131584      conv2_block3_out[0][0]           \n",
            "__________________________________________________________________________________________________\n",
            "conv3_block1_3_conv (Conv2D)    (None, None, None, 5 66048       conv3_block1_2_relu[0][0]        \n",
            "__________________________________________________________________________________________________\n",
            "conv3_block1_0_bn (BatchNormali (None, None, None, 5 2048        conv3_block1_0_conv[0][0]        \n",
            "__________________________________________________________________________________________________\n",
            "conv3_block1_3_bn (BatchNormali (None, None, None, 5 2048        conv3_block1_3_conv[0][0]        \n",
            "__________________________________________________________________________________________________\n",
            "conv3_block1_add (Add)          (None, None, None, 5 0           conv3_block1_0_bn[0][0]          \n",
            "                                                                 conv3_block1_3_bn[0][0]          \n",
            "__________________________________________________________________________________________________\n",
            "conv3_block1_out (Activation)   (None, None, None, 5 0           conv3_block1_add[0][0]           \n",
            "__________________________________________________________________________________________________\n",
            "conv3_block2_1_conv (Conv2D)    (None, None, None, 1 65664       conv3_block1_out[0][0]           \n",
            "__________________________________________________________________________________________________\n",
            "conv3_block2_1_bn (BatchNormali (None, None, None, 1 512         conv3_block2_1_conv[0][0]        \n",
            "__________________________________________________________________________________________________\n",
            "conv3_block2_1_relu (Activation (None, None, None, 1 0           conv3_block2_1_bn[0][0]          \n",
            "__________________________________________________________________________________________________\n",
            "conv3_block2_2_conv (Conv2D)    (None, None, None, 1 147584      conv3_block2_1_relu[0][0]        \n",
            "__________________________________________________________________________________________________\n",
            "conv3_block2_2_bn (BatchNormali (None, None, None, 1 512         conv3_block2_2_conv[0][0]        \n",
            "__________________________________________________________________________________________________\n",
            "conv3_block2_2_relu (Activation (None, None, None, 1 0           conv3_block2_2_bn[0][0]          \n",
            "__________________________________________________________________________________________________\n",
            "conv3_block2_3_conv (Conv2D)    (None, None, None, 5 66048       conv3_block2_2_relu[0][0]        \n",
            "__________________________________________________________________________________________________\n",
            "conv3_block2_3_bn (BatchNormali (None, None, None, 5 2048        conv3_block2_3_conv[0][0]        \n",
            "__________________________________________________________________________________________________\n",
            "conv3_block2_add (Add)          (None, None, None, 5 0           conv3_block1_out[0][0]           \n",
            "                                                                 conv3_block2_3_bn[0][0]          \n",
            "__________________________________________________________________________________________________\n",
            "conv3_block2_out (Activation)   (None, None, None, 5 0           conv3_block2_add[0][0]           \n",
            "__________________________________________________________________________________________________\n",
            "conv3_block3_1_conv (Conv2D)    (None, None, None, 1 65664       conv3_block2_out[0][0]           \n",
            "__________________________________________________________________________________________________\n",
            "conv3_block3_1_bn (BatchNormali (None, None, None, 1 512         conv3_block3_1_conv[0][0]        \n",
            "__________________________________________________________________________________________________\n",
            "conv3_block3_1_relu (Activation (None, None, None, 1 0           conv3_block3_1_bn[0][0]          \n",
            "__________________________________________________________________________________________________\n",
            "conv3_block3_2_conv (Conv2D)    (None, None, None, 1 147584      conv3_block3_1_relu[0][0]        \n",
            "__________________________________________________________________________________________________\n",
            "conv3_block3_2_bn (BatchNormali (None, None, None, 1 512         conv3_block3_2_conv[0][0]        \n",
            "__________________________________________________________________________________________________\n",
            "conv3_block3_2_relu (Activation (None, None, None, 1 0           conv3_block3_2_bn[0][0]          \n",
            "__________________________________________________________________________________________________\n",
            "conv3_block3_3_conv (Conv2D)    (None, None, None, 5 66048       conv3_block3_2_relu[0][0]        \n",
            "__________________________________________________________________________________________________\n",
            "conv3_block3_3_bn (BatchNormali (None, None, None, 5 2048        conv3_block3_3_conv[0][0]        \n",
            "__________________________________________________________________________________________________\n",
            "conv3_block3_add (Add)          (None, None, None, 5 0           conv3_block2_out[0][0]           \n",
            "                                                                 conv3_block3_3_bn[0][0]          \n",
            "__________________________________________________________________________________________________\n",
            "conv3_block3_out (Activation)   (None, None, None, 5 0           conv3_block3_add[0][0]           \n",
            "__________________________________________________________________________________________________\n",
            "conv3_block4_1_conv (Conv2D)    (None, None, None, 1 65664       conv3_block3_out[0][0]           \n",
            "__________________________________________________________________________________________________\n",
            "conv3_block4_1_bn (BatchNormali (None, None, None, 1 512         conv3_block4_1_conv[0][0]        \n",
            "__________________________________________________________________________________________________\n",
            "conv3_block4_1_relu (Activation (None, None, None, 1 0           conv3_block4_1_bn[0][0]          \n",
            "__________________________________________________________________________________________________\n",
            "conv3_block4_2_conv (Conv2D)    (None, None, None, 1 147584      conv3_block4_1_relu[0][0]        \n",
            "__________________________________________________________________________________________________\n",
            "conv3_block4_2_bn (BatchNormali (None, None, None, 1 512         conv3_block4_2_conv[0][0]        \n",
            "__________________________________________________________________________________________________\n",
            "conv3_block4_2_relu (Activation (None, None, None, 1 0           conv3_block4_2_bn[0][0]          \n",
            "__________________________________________________________________________________________________\n",
            "conv3_block4_3_conv (Conv2D)    (None, None, None, 5 66048       conv3_block4_2_relu[0][0]        \n",
            "__________________________________________________________________________________________________\n",
            "conv3_block4_3_bn (BatchNormali (None, None, None, 5 2048        conv3_block4_3_conv[0][0]        \n",
            "__________________________________________________________________________________________________\n",
            "conv3_block4_add (Add)          (None, None, None, 5 0           conv3_block3_out[0][0]           \n",
            "                                                                 conv3_block4_3_bn[0][0]          \n",
            "__________________________________________________________________________________________________\n",
            "conv3_block4_out (Activation)   (None, None, None, 5 0           conv3_block4_add[0][0]           \n",
            "__________________________________________________________________________________________________\n",
            "conv4_block1_1_conv (Conv2D)    (None, None, None, 2 131328      conv3_block4_out[0][0]           \n",
            "__________________________________________________________________________________________________\n",
            "conv4_block1_1_bn (BatchNormali (None, None, None, 2 1024        conv4_block1_1_conv[0][0]        \n",
            "__________________________________________________________________________________________________\n",
            "conv4_block1_1_relu (Activation (None, None, None, 2 0           conv4_block1_1_bn[0][0]          \n",
            "__________________________________________________________________________________________________\n",
            "conv4_block1_2_conv (Conv2D)    (None, None, None, 2 590080      conv4_block1_1_relu[0][0]        \n",
            "__________________________________________________________________________________________________\n",
            "conv4_block1_2_bn (BatchNormali (None, None, None, 2 1024        conv4_block1_2_conv[0][0]        \n",
            "__________________________________________________________________________________________________\n",
            "conv4_block1_2_relu (Activation (None, None, None, 2 0           conv4_block1_2_bn[0][0]          \n",
            "__________________________________________________________________________________________________\n",
            "conv4_block1_0_conv (Conv2D)    (None, None, None, 1 525312      conv3_block4_out[0][0]           \n",
            "__________________________________________________________________________________________________\n",
            "conv4_block1_3_conv (Conv2D)    (None, None, None, 1 263168      conv4_block1_2_relu[0][0]        \n",
            "__________________________________________________________________________________________________\n",
            "conv4_block1_0_bn (BatchNormali (None, None, None, 1 4096        conv4_block1_0_conv[0][0]        \n",
            "__________________________________________________________________________________________________\n",
            "conv4_block1_3_bn (BatchNormali (None, None, None, 1 4096        conv4_block1_3_conv[0][0]        \n",
            "__________________________________________________________________________________________________\n",
            "conv4_block1_add (Add)          (None, None, None, 1 0           conv4_block1_0_bn[0][0]          \n",
            "                                                                 conv4_block1_3_bn[0][0]          \n",
            "__________________________________________________________________________________________________\n",
            "conv4_block1_out (Activation)   (None, None, None, 1 0           conv4_block1_add[0][0]           \n",
            "__________________________________________________________________________________________________\n",
            "conv4_block2_1_conv (Conv2D)    (None, None, None, 2 262400      conv4_block1_out[0][0]           \n",
            "__________________________________________________________________________________________________\n",
            "conv4_block2_1_bn (BatchNormali (None, None, None, 2 1024        conv4_block2_1_conv[0][0]        \n",
            "__________________________________________________________________________________________________\n",
            "conv4_block2_1_relu (Activation (None, None, None, 2 0           conv4_block2_1_bn[0][0]          \n",
            "__________________________________________________________________________________________________\n",
            "conv4_block2_2_conv (Conv2D)    (None, None, None, 2 590080      conv4_block2_1_relu[0][0]        \n",
            "__________________________________________________________________________________________________\n",
            "conv4_block2_2_bn (BatchNormali (None, None, None, 2 1024        conv4_block2_2_conv[0][0]        \n",
            "__________________________________________________________________________________________________\n",
            "conv4_block2_2_relu (Activation (None, None, None, 2 0           conv4_block2_2_bn[0][0]          \n",
            "__________________________________________________________________________________________________\n",
            "conv4_block2_3_conv (Conv2D)    (None, None, None, 1 263168      conv4_block2_2_relu[0][0]        \n",
            "__________________________________________________________________________________________________\n",
            "conv4_block2_3_bn (BatchNormali (None, None, None, 1 4096        conv4_block2_3_conv[0][0]        \n",
            "__________________________________________________________________________________________________\n",
            "conv4_block2_add (Add)          (None, None, None, 1 0           conv4_block1_out[0][0]           \n",
            "                                                                 conv4_block2_3_bn[0][0]          \n",
            "__________________________________________________________________________________________________\n",
            "conv4_block2_out (Activation)   (None, None, None, 1 0           conv4_block2_add[0][0]           \n",
            "__________________________________________________________________________________________________\n",
            "conv4_block3_1_conv (Conv2D)    (None, None, None, 2 262400      conv4_block2_out[0][0]           \n",
            "__________________________________________________________________________________________________\n",
            "conv4_block3_1_bn (BatchNormali (None, None, None, 2 1024        conv4_block3_1_conv[0][0]        \n",
            "__________________________________________________________________________________________________\n",
            "conv4_block3_1_relu (Activation (None, None, None, 2 0           conv4_block3_1_bn[0][0]          \n",
            "__________________________________________________________________________________________________\n",
            "conv4_block3_2_conv (Conv2D)    (None, None, None, 2 590080      conv4_block3_1_relu[0][0]        \n",
            "__________________________________________________________________________________________________\n",
            "conv4_block3_2_bn (BatchNormali (None, None, None, 2 1024        conv4_block3_2_conv[0][0]        \n",
            "__________________________________________________________________________________________________\n",
            "conv4_block3_2_relu (Activation (None, None, None, 2 0           conv4_block3_2_bn[0][0]          \n",
            "__________________________________________________________________________________________________\n",
            "conv4_block3_3_conv (Conv2D)    (None, None, None, 1 263168      conv4_block3_2_relu[0][0]        \n",
            "__________________________________________________________________________________________________\n",
            "conv4_block3_3_bn (BatchNormali (None, None, None, 1 4096        conv4_block3_3_conv[0][0]        \n",
            "__________________________________________________________________________________________________\n",
            "conv4_block3_add (Add)          (None, None, None, 1 0           conv4_block2_out[0][0]           \n",
            "                                                                 conv4_block3_3_bn[0][0]          \n",
            "__________________________________________________________________________________________________\n",
            "conv4_block3_out (Activation)   (None, None, None, 1 0           conv4_block3_add[0][0]           \n",
            "__________________________________________________________________________________________________\n",
            "conv4_block4_1_conv (Conv2D)    (None, None, None, 2 262400      conv4_block3_out[0][0]           \n",
            "__________________________________________________________________________________________________\n",
            "conv4_block4_1_bn (BatchNormali (None, None, None, 2 1024        conv4_block4_1_conv[0][0]        \n",
            "__________________________________________________________________________________________________\n",
            "conv4_block4_1_relu (Activation (None, None, None, 2 0           conv4_block4_1_bn[0][0]          \n",
            "__________________________________________________________________________________________________\n",
            "conv4_block4_2_conv (Conv2D)    (None, None, None, 2 590080      conv4_block4_1_relu[0][0]        \n",
            "__________________________________________________________________________________________________\n",
            "conv4_block4_2_bn (BatchNormali (None, None, None, 2 1024        conv4_block4_2_conv[0][0]        \n",
            "__________________________________________________________________________________________________\n",
            "conv4_block4_2_relu (Activation (None, None, None, 2 0           conv4_block4_2_bn[0][0]          \n",
            "__________________________________________________________________________________________________\n",
            "conv4_block4_3_conv (Conv2D)    (None, None, None, 1 263168      conv4_block4_2_relu[0][0]        \n",
            "__________________________________________________________________________________________________\n",
            "conv4_block4_3_bn (BatchNormali (None, None, None, 1 4096        conv4_block4_3_conv[0][0]        \n",
            "__________________________________________________________________________________________________\n",
            "conv4_block4_add (Add)          (None, None, None, 1 0           conv4_block3_out[0][0]           \n",
            "                                                                 conv4_block4_3_bn[0][0]          \n",
            "__________________________________________________________________________________________________\n",
            "conv4_block4_out (Activation)   (None, None, None, 1 0           conv4_block4_add[0][0]           \n",
            "__________________________________________________________________________________________________\n",
            "conv4_block5_1_conv (Conv2D)    (None, None, None, 2 262400      conv4_block4_out[0][0]           \n",
            "__________________________________________________________________________________________________\n",
            "conv4_block5_1_bn (BatchNormali (None, None, None, 2 1024        conv4_block5_1_conv[0][0]        \n",
            "__________________________________________________________________________________________________\n",
            "conv4_block5_1_relu (Activation (None, None, None, 2 0           conv4_block5_1_bn[0][0]          \n",
            "__________________________________________________________________________________________________\n",
            "conv4_block5_2_conv (Conv2D)    (None, None, None, 2 590080      conv4_block5_1_relu[0][0]        \n",
            "__________________________________________________________________________________________________\n",
            "conv4_block5_2_bn (BatchNormali (None, None, None, 2 1024        conv4_block5_2_conv[0][0]        \n",
            "__________________________________________________________________________________________________\n",
            "conv4_block5_2_relu (Activation (None, None, None, 2 0           conv4_block5_2_bn[0][0]          \n",
            "__________________________________________________________________________________________________\n",
            "conv4_block5_3_conv (Conv2D)    (None, None, None, 1 263168      conv4_block5_2_relu[0][0]        \n",
            "__________________________________________________________________________________________________\n",
            "conv4_block5_3_bn (BatchNormali (None, None, None, 1 4096        conv4_block5_3_conv[0][0]        \n",
            "__________________________________________________________________________________________________\n",
            "conv4_block5_add (Add)          (None, None, None, 1 0           conv4_block4_out[0][0]           \n",
            "                                                                 conv4_block5_3_bn[0][0]          \n",
            "__________________________________________________________________________________________________\n",
            "conv4_block5_out (Activation)   (None, None, None, 1 0           conv4_block5_add[0][0]           \n",
            "__________________________________________________________________________________________________\n",
            "conv4_block6_1_conv (Conv2D)    (None, None, None, 2 262400      conv4_block5_out[0][0]           \n",
            "__________________________________________________________________________________________________\n",
            "conv4_block6_1_bn (BatchNormali (None, None, None, 2 1024        conv4_block6_1_conv[0][0]        \n",
            "__________________________________________________________________________________________________\n",
            "conv4_block6_1_relu (Activation (None, None, None, 2 0           conv4_block6_1_bn[0][0]          \n",
            "__________________________________________________________________________________________________\n",
            "conv4_block6_2_conv (Conv2D)    (None, None, None, 2 590080      conv4_block6_1_relu[0][0]        \n",
            "__________________________________________________________________________________________________\n",
            "conv4_block6_2_bn (BatchNormali (None, None, None, 2 1024        conv4_block6_2_conv[0][0]        \n",
            "__________________________________________________________________________________________________\n",
            "conv4_block6_2_relu (Activation (None, None, None, 2 0           conv4_block6_2_bn[0][0]          \n",
            "__________________________________________________________________________________________________\n",
            "conv4_block6_3_conv (Conv2D)    (None, None, None, 1 263168      conv4_block6_2_relu[0][0]        \n",
            "__________________________________________________________________________________________________\n",
            "conv4_block6_3_bn (BatchNormali (None, None, None, 1 4096        conv4_block6_3_conv[0][0]        \n",
            "__________________________________________________________________________________________________\n",
            "conv4_block6_add (Add)          (None, None, None, 1 0           conv4_block5_out[0][0]           \n",
            "                                                                 conv4_block6_3_bn[0][0]          \n",
            "__________________________________________________________________________________________________\n",
            "conv4_block6_out (Activation)   (None, None, None, 1 0           conv4_block6_add[0][0]           \n",
            "__________________________________________________________________________________________________\n",
            "conv5_block1_1_conv (Conv2D)    (None, None, None, 5 524800      conv4_block6_out[0][0]           \n",
            "__________________________________________________________________________________________________\n",
            "conv5_block1_1_bn (BatchNormali (None, None, None, 5 2048        conv5_block1_1_conv[0][0]        \n",
            "__________________________________________________________________________________________________\n",
            "conv5_block1_1_relu (Activation (None, None, None, 5 0           conv5_block1_1_bn[0][0]          \n",
            "__________________________________________________________________________________________________\n",
            "conv5_block1_2_conv (Conv2D)    (None, None, None, 5 2359808     conv5_block1_1_relu[0][0]        \n",
            "__________________________________________________________________________________________________\n",
            "conv5_block1_2_bn (BatchNormali (None, None, None, 5 2048        conv5_block1_2_conv[0][0]        \n",
            "__________________________________________________________________________________________________\n",
            "conv5_block1_2_relu (Activation (None, None, None, 5 0           conv5_block1_2_bn[0][0]          \n",
            "__________________________________________________________________________________________________\n",
            "conv5_block1_0_conv (Conv2D)    (None, None, None, 2 2099200     conv4_block6_out[0][0]           \n",
            "__________________________________________________________________________________________________\n",
            "conv5_block1_3_conv (Conv2D)    (None, None, None, 2 1050624     conv5_block1_2_relu[0][0]        \n",
            "__________________________________________________________________________________________________\n",
            "conv5_block1_0_bn (BatchNormali (None, None, None, 2 8192        conv5_block1_0_conv[0][0]        \n",
            "__________________________________________________________________________________________________\n",
            "conv5_block1_3_bn (BatchNormali (None, None, None, 2 8192        conv5_block1_3_conv[0][0]        \n",
            "__________________________________________________________________________________________________\n",
            "conv5_block1_add (Add)          (None, None, None, 2 0           conv5_block1_0_bn[0][0]          \n",
            "                                                                 conv5_block1_3_bn[0][0]          \n",
            "__________________________________________________________________________________________________\n",
            "conv5_block1_out (Activation)   (None, None, None, 2 0           conv5_block1_add[0][0]           \n",
            "__________________________________________________________________________________________________\n",
            "conv5_block2_1_conv (Conv2D)    (None, None, None, 5 1049088     conv5_block1_out[0][0]           \n",
            "__________________________________________________________________________________________________\n",
            "conv5_block2_1_bn (BatchNormali (None, None, None, 5 2048        conv5_block2_1_conv[0][0]        \n",
            "__________________________________________________________________________________________________\n",
            "conv5_block2_1_relu (Activation (None, None, None, 5 0           conv5_block2_1_bn[0][0]          \n",
            "__________________________________________________________________________________________________\n",
            "conv5_block2_2_conv (Conv2D)    (None, None, None, 5 2359808     conv5_block2_1_relu[0][0]        \n",
            "__________________________________________________________________________________________________\n",
            "conv5_block2_2_bn (BatchNormali (None, None, None, 5 2048        conv5_block2_2_conv[0][0]        \n",
            "__________________________________________________________________________________________________\n",
            "conv5_block2_2_relu (Activation (None, None, None, 5 0           conv5_block2_2_bn[0][0]          \n",
            "__________________________________________________________________________________________________\n",
            "conv5_block2_3_conv (Conv2D)    (None, None, None, 2 1050624     conv5_block2_2_relu[0][0]        \n",
            "__________________________________________________________________________________________________\n",
            "conv5_block2_3_bn (BatchNormali (None, None, None, 2 8192        conv5_block2_3_conv[0][0]        \n",
            "__________________________________________________________________________________________________\n",
            "conv5_block2_add (Add)          (None, None, None, 2 0           conv5_block1_out[0][0]           \n",
            "                                                                 conv5_block2_3_bn[0][0]          \n",
            "__________________________________________________________________________________________________\n",
            "conv5_block2_out (Activation)   (None, None, None, 2 0           conv5_block2_add[0][0]           \n",
            "__________________________________________________________________________________________________\n",
            "conv5_block3_1_conv (Conv2D)    (None, None, None, 5 1049088     conv5_block2_out[0][0]           \n",
            "__________________________________________________________________________________________________\n",
            "conv5_block3_1_bn (BatchNormali (None, None, None, 5 2048        conv5_block3_1_conv[0][0]        \n",
            "__________________________________________________________________________________________________\n",
            "conv5_block3_1_relu (Activation (None, None, None, 5 0           conv5_block3_1_bn[0][0]          \n",
            "__________________________________________________________________________________________________\n",
            "conv5_block3_2_conv (Conv2D)    (None, None, None, 5 2359808     conv5_block3_1_relu[0][0]        \n",
            "__________________________________________________________________________________________________\n",
            "conv5_block3_2_bn (BatchNormali (None, None, None, 5 2048        conv5_block3_2_conv[0][0]        \n",
            "__________________________________________________________________________________________________\n",
            "conv5_block3_2_relu (Activation (None, None, None, 5 0           conv5_block3_2_bn[0][0]          \n",
            "__________________________________________________________________________________________________\n",
            "conv5_block3_3_conv (Conv2D)    (None, None, None, 2 1050624     conv5_block3_2_relu[0][0]        \n",
            "__________________________________________________________________________________________________\n",
            "conv5_block3_3_bn (BatchNormali (None, None, None, 2 8192        conv5_block3_3_conv[0][0]        \n",
            "__________________________________________________________________________________________________\n",
            "conv5_block3_add (Add)          (None, None, None, 2 0           conv5_block2_out[0][0]           \n",
            "                                                                 conv5_block3_3_bn[0][0]          \n",
            "__________________________________________________________________________________________________\n",
            "conv5_block3_out (Activation)   (None, None, None, 2 0           conv5_block3_add[0][0]           \n",
            "__________________________________________________________________________________________________\n",
            "global_average_pooling2d (Globa (None, 2048)         0           conv5_block3_out[0][0]           \n",
            "__________________________________________________________________________________________________\n",
            "dense (Dense)                   (None, 1024)         2098176     global_average_pooling2d[0][0]   \n",
            "__________________________________________________________________________________________________\n",
            "dense_1 (Dense)                 (None, 1)            1025        dense[0][0]                      \n",
            "==================================================================================================\n",
            "Total params: 25,686,913\n",
            "Trainable params: 2,099,201\n",
            "Non-trainable params: 23,587,712\n",
            "__________________________________________________________________________________________________\n"
          ],
          "name": "stdout"
        }
      ]
    },
    {
      "cell_type": "markdown",
      "metadata": {
        "id": "SkX4BEB36Tgx",
        "colab_type": "text"
      },
      "source": [
        "## Fit Model"
      ]
    },
    {
      "cell_type": "code",
      "metadata": {
        "id": "pWMlu-Hu6Tgy",
        "colab_type": "code",
        "colab": {
          "base_uri": "https://localhost:8080/",
          "height": 1000
        },
        "outputId": "f6e16c36-23d6-4189-abff-578151da16c2"
      },
      "source": [
        "history = model.fit(\n",
        "    train_data_gen,\n",
        "    steps_per_epoch=total_train // batch_size,\n",
        "    epochs=epochs,\n",
        "    validation_data=val_data_gen,\n",
        "    validation_steps=total_val // batch_size\n",
        ")"
      ],
      "execution_count": 16,
      "outputs": [
        {
          "output_type": "stream",
          "text": [
            "Epoch 1/50\n",
            "32/32 [==============================] - 6s 202ms/step - loss: 0.7897 - accuracy: 0.5269 - val_loss: 0.6164 - val_accuracy: 0.7784\n",
            "Epoch 2/50\n",
            "32/32 [==============================] - 5s 155ms/step - loss: 0.6134 - accuracy: 0.6627 - val_loss: 0.5669 - val_accuracy: 0.6477\n",
            "Epoch 3/50\n",
            "32/32 [==============================] - 5s 154ms/step - loss: 0.5725 - accuracy: 0.6667 - val_loss: 0.4889 - val_accuracy: 0.8352\n",
            "Epoch 4/50\n",
            "32/32 [==============================] - 5s 154ms/step - loss: 0.5443 - accuracy: 0.6886 - val_loss: 0.4533 - val_accuracy: 0.7273\n",
            "Epoch 5/50\n",
            "32/32 [==============================] - 5s 155ms/step - loss: 0.5252 - accuracy: 0.6886 - val_loss: 0.4117 - val_accuracy: 0.8125\n",
            "Epoch 6/50\n",
            "32/32 [==============================] - 5s 155ms/step - loss: 0.4101 - accuracy: 0.8363 - val_loss: 0.6019 - val_accuracy: 0.6705\n",
            "Epoch 7/50\n",
            "32/32 [==============================] - 5s 155ms/step - loss: 0.3989 - accuracy: 0.8483 - val_loss: 0.4280 - val_accuracy: 0.8523\n",
            "Epoch 8/50\n",
            "32/32 [==============================] - 5s 155ms/step - loss: 0.3583 - accuracy: 0.8523 - val_loss: 0.6988 - val_accuracy: 0.5795\n",
            "Epoch 9/50\n",
            "32/32 [==============================] - 5s 155ms/step - loss: 0.3626 - accuracy: 0.8603 - val_loss: 0.3284 - val_accuracy: 0.8920\n",
            "Epoch 10/50\n",
            "32/32 [==============================] - 5s 155ms/step - loss: 0.3498 - accuracy: 0.8503 - val_loss: 0.3156 - val_accuracy: 0.9091\n",
            "Epoch 11/50\n",
            "32/32 [==============================] - 5s 156ms/step - loss: 0.2898 - accuracy: 0.9042 - val_loss: 0.3381 - val_accuracy: 0.8636\n",
            "Epoch 12/50\n",
            "32/32 [==============================] - 5s 156ms/step - loss: 0.2729 - accuracy: 0.9242 - val_loss: 0.4256 - val_accuracy: 0.8239\n",
            "Epoch 13/50\n",
            "32/32 [==============================] - 5s 156ms/step - loss: 0.2796 - accuracy: 0.8942 - val_loss: 0.2736 - val_accuracy: 0.9091\n",
            "Epoch 14/50\n",
            "32/32 [==============================] - 5s 156ms/step - loss: 0.2548 - accuracy: 0.9042 - val_loss: 0.2855 - val_accuracy: 0.9034\n",
            "Epoch 15/50\n",
            "32/32 [==============================] - 5s 156ms/step - loss: 0.2485 - accuracy: 0.9142 - val_loss: 0.2647 - val_accuracy: 0.9034\n",
            "Epoch 16/50\n",
            "32/32 [==============================] - 5s 156ms/step - loss: 0.2703 - accuracy: 0.9002 - val_loss: 0.8607 - val_accuracy: 0.5795\n",
            "Epoch 17/50\n",
            "32/32 [==============================] - 5s 157ms/step - loss: 0.2474 - accuracy: 0.9122 - val_loss: 0.2549 - val_accuracy: 0.9261\n",
            "Epoch 18/50\n",
            "32/32 [==============================] - 5s 158ms/step - loss: 0.2000 - accuracy: 0.9261 - val_loss: 0.2414 - val_accuracy: 0.9318\n",
            "Epoch 19/50\n",
            "32/32 [==============================] - 5s 155ms/step - loss: 0.2391 - accuracy: 0.9042 - val_loss: 0.2721 - val_accuracy: 0.8750\n",
            "Epoch 20/50\n",
            "32/32 [==============================] - 5s 156ms/step - loss: 0.2185 - accuracy: 0.9261 - val_loss: 0.2661 - val_accuracy: 0.9034\n",
            "Epoch 21/50\n",
            "32/32 [==============================] - 5s 156ms/step - loss: 0.2020 - accuracy: 0.9301 - val_loss: 0.2327 - val_accuracy: 0.9091\n",
            "Epoch 22/50\n",
            "32/32 [==============================] - 5s 156ms/step - loss: 0.1528 - accuracy: 0.9501 - val_loss: 0.4212 - val_accuracy: 0.8295\n",
            "Epoch 23/50\n",
            "32/32 [==============================] - 5s 157ms/step - loss: 0.1661 - accuracy: 0.9381 - val_loss: 0.4686 - val_accuracy: 0.8068\n",
            "Epoch 24/50\n",
            "32/32 [==============================] - 5s 157ms/step - loss: 0.1756 - accuracy: 0.9341 - val_loss: 0.3372 - val_accuracy: 0.8523\n",
            "Epoch 25/50\n",
            "32/32 [==============================] - 5s 156ms/step - loss: 0.1407 - accuracy: 0.9441 - val_loss: 0.3513 - val_accuracy: 0.8466\n",
            "Epoch 26/50\n",
            "32/32 [==============================] - 5s 156ms/step - loss: 0.1374 - accuracy: 0.9541 - val_loss: 0.3682 - val_accuracy: 0.8580\n",
            "Epoch 27/50\n",
            "32/32 [==============================] - 5s 156ms/step - loss: 0.1409 - accuracy: 0.9441 - val_loss: 0.2329 - val_accuracy: 0.9205\n",
            "Epoch 28/50\n",
            "32/32 [==============================] - 5s 156ms/step - loss: 0.1990 - accuracy: 0.9022 - val_loss: 0.2203 - val_accuracy: 0.9205\n",
            "Epoch 29/50\n",
            "32/32 [==============================] - 5s 156ms/step - loss: 0.1485 - accuracy: 0.9421 - val_loss: 0.2436 - val_accuracy: 0.9034\n",
            "Epoch 30/50\n",
            "32/32 [==============================] - 5s 157ms/step - loss: 0.1144 - accuracy: 0.9601 - val_loss: 0.1651 - val_accuracy: 0.9489\n",
            "Epoch 31/50\n",
            "32/32 [==============================] - 5s 156ms/step - loss: 0.1144 - accuracy: 0.9701 - val_loss: 0.2035 - val_accuracy: 0.9318\n",
            "Epoch 32/50\n",
            "32/32 [==============================] - 5s 158ms/step - loss: 0.1283 - accuracy: 0.9531 - val_loss: 0.2013 - val_accuracy: 0.9318\n",
            "Epoch 33/50\n",
            "32/32 [==============================] - 5s 157ms/step - loss: 0.2933 - accuracy: 0.8703 - val_loss: 0.1783 - val_accuracy: 0.9489\n",
            "Epoch 34/50\n",
            "32/32 [==============================] - 5s 159ms/step - loss: 0.1012 - accuracy: 0.9648 - val_loss: 0.2912 - val_accuracy: 0.8864\n",
            "Epoch 35/50\n",
            "32/32 [==============================] - 5s 157ms/step - loss: 0.1009 - accuracy: 0.9641 - val_loss: 0.3277 - val_accuracy: 0.8807\n",
            "Epoch 36/50\n",
            "32/32 [==============================] - 5s 156ms/step - loss: 0.1199 - accuracy: 0.9521 - val_loss: 0.2807 - val_accuracy: 0.8750\n",
            "Epoch 37/50\n",
            "32/32 [==============================] - 5s 156ms/step - loss: 0.1244 - accuracy: 0.9581 - val_loss: 0.3574 - val_accuracy: 0.8580\n",
            "Epoch 38/50\n",
            "32/32 [==============================] - 5s 157ms/step - loss: 0.1156 - accuracy: 0.9661 - val_loss: 0.6050 - val_accuracy: 0.7898\n",
            "Epoch 39/50\n",
            "32/32 [==============================] - 5s 159ms/step - loss: 0.2794 - accuracy: 0.8809 - val_loss: 0.1985 - val_accuracy: 0.9432\n",
            "Epoch 40/50\n",
            "32/32 [==============================] - 5s 157ms/step - loss: 0.1348 - accuracy: 0.9401 - val_loss: 0.2444 - val_accuracy: 0.9261\n",
            "Epoch 41/50\n",
            "32/32 [==============================] - 5s 158ms/step - loss: 0.0875 - accuracy: 0.9746 - val_loss: 0.1826 - val_accuracy: 0.9375\n",
            "Epoch 42/50\n",
            "32/32 [==============================] - 5s 159ms/step - loss: 0.1381 - accuracy: 0.9421 - val_loss: 0.2753 - val_accuracy: 0.9091\n",
            "Epoch 43/50\n",
            "32/32 [==============================] - 5s 156ms/step - loss: 0.2527 - accuracy: 0.9022 - val_loss: 0.2931 - val_accuracy: 0.8693\n",
            "Epoch 44/50\n",
            "32/32 [==============================] - 5s 157ms/step - loss: 0.1099 - accuracy: 0.9541 - val_loss: 0.1851 - val_accuracy: 0.9432\n",
            "Epoch 45/50\n",
            "32/32 [==============================] - 5s 156ms/step - loss: 0.0761 - accuracy: 0.9701 - val_loss: 0.2213 - val_accuracy: 0.9091\n",
            "Epoch 46/50\n",
            "32/32 [==============================] - 5s 156ms/step - loss: 0.1070 - accuracy: 0.9621 - val_loss: 0.1581 - val_accuracy: 0.9489\n",
            "Epoch 47/50\n",
            "32/32 [==============================] - 5s 156ms/step - loss: 0.1043 - accuracy: 0.9701 - val_loss: 0.1917 - val_accuracy: 0.9375\n",
            "Epoch 48/50\n",
            "32/32 [==============================] - 5s 156ms/step - loss: 0.1265 - accuracy: 0.9481 - val_loss: 0.1676 - val_accuracy: 0.9659\n",
            "Epoch 49/50\n",
            "32/32 [==============================] - 5s 157ms/step - loss: 0.0751 - accuracy: 0.9701 - val_loss: 0.1857 - val_accuracy: 0.9432\n",
            "Epoch 50/50\n",
            "32/32 [==============================] - 5s 161ms/step - loss: 0.0733 - accuracy: 0.9780 - val_loss: 0.2498 - val_accuracy: 0.9205\n"
          ],
          "name": "stdout"
        }
      ]
    },
    {
      "cell_type": "markdown",
      "metadata": {
        "id": "_tTfGJpJ6ThP",
        "colab_type": "text"
      },
      "source": [
        "# Custom CNN Model\n",
        "\n",
        "In this step, write and train your own convolutional neural network using Keras. You can use any architecture that suits you as long as it has at least one convolutional and one pooling layer at the beginning of the network - you can add more if you want. "
      ]
    },
    {
      "cell_type": "code",
      "metadata": {
        "id": "D8c3Y3Ha6ThS",
        "colab_type": "code",
        "colab": {
          "base_uri": "https://localhost:8080/",
          "height": 425
        },
        "outputId": "837bd461-cd06-4171-9c20-44c977f7d7a3"
      },
      "source": [
        "# Define the Model\n",
        "from tensorflow.keras import datasets\n",
        "from tensorflow.keras.models import Sequential, Model\n",
        "from tensorflow.keras.layers import Dense, Conv2D, MaxPooling2D, Flatten\n",
        "\n",
        "model = Sequential()\n",
        "model.add(Conv2D(32, (3,3), activation='relu', input_shape=(32,32,3)))\n",
        "model.add(MaxPooling2D((2,2)))\n",
        "model.add(Conv2D(64, (3,3), activation='relu'))\n",
        "model.add(MaxPooling2D((2,2)))\n",
        "model.add(Conv2D(64, (3,3), activation='relu'))\n",
        "model.add(Flatten())\n",
        "model.add(Dense(64, activation='relu'))\n",
        "model.add(Dense(10, activation='softmax'))\n",
        "\n",
        "model.summary()"
      ],
      "execution_count": 18,
      "outputs": [
        {
          "output_type": "stream",
          "text": [
            "Model: \"sequential_1\"\n",
            "_________________________________________________________________\n",
            "Layer (type)                 Output Shape              Param #   \n",
            "=================================================================\n",
            "conv2d_1 (Conv2D)            (None, 30, 30, 32)        896       \n",
            "_________________________________________________________________\n",
            "max_pooling2d (MaxPooling2D) (None, 15, 15, 32)        0         \n",
            "_________________________________________________________________\n",
            "conv2d_2 (Conv2D)            (None, 13, 13, 64)        18496     \n",
            "_________________________________________________________________\n",
            "max_pooling2d_1 (MaxPooling2 (None, 6, 6, 64)          0         \n",
            "_________________________________________________________________\n",
            "conv2d_3 (Conv2D)            (None, 4, 4, 64)          36928     \n",
            "_________________________________________________________________\n",
            "flatten (Flatten)            (None, 1024)              0         \n",
            "_________________________________________________________________\n",
            "dense_2 (Dense)              (None, 64)                65600     \n",
            "_________________________________________________________________\n",
            "dense_3 (Dense)              (None, 10)                650       \n",
            "=================================================================\n",
            "Total params: 122,570\n",
            "Trainable params: 122,570\n",
            "Non-trainable params: 0\n",
            "_________________________________________________________________\n"
          ],
          "name": "stdout"
        }
      ]
    },
    {
      "cell_type": "code",
      "metadata": {
        "id": "KUqsNgal6Thh",
        "colab_type": "code",
        "colab": {}
      },
      "source": [
        "# Compile Model\n",
        "\n",
        "model.compile(loss='sparse_categorical_crossentropy',\n",
        "              optimizer='adam',\n",
        "              metrics=['accuracy'])"
      ],
      "execution_count": 19,
      "outputs": []
    },
    {
      "cell_type": "code",
      "metadata": {
        "id": "vRcjPDba6Thu",
        "colab_type": "code",
        "colab": {
          "base_uri": "https://localhost:8080/",
          "height": 1000
        },
        "outputId": "a7fbe16b-552c-4533-ad25-684c775b2e16"
      },
      "source": [
        "# Fit Model\n",
        "model.fit(\n",
        "    train_data_gen,\n",
        "    steps_per_epoch=total_train // batch_size,\n",
        "    epochs=epochs,\n",
        "    validation_data=val_data_gen,\n",
        "    validation_steps=total_val // batch_size\n",
        ")"
      ],
      "execution_count": 37,
      "outputs": [
        {
          "output_type": "stream",
          "text": [
            "Epoch 1/50\n",
            "32/32 [==============================] - 9s 269ms/step - loss: 0.1206 - accuracy: 0.9541 - val_loss: 0.6159 - val_accuracy: 0.7727\n",
            "Epoch 2/50\n",
            "32/32 [==============================] - 8s 265ms/step - loss: 0.1093 - accuracy: 0.9501 - val_loss: 0.5717 - val_accuracy: 0.7614\n",
            "Epoch 3/50\n",
            "32/32 [==============================] - 9s 266ms/step - loss: 0.1223 - accuracy: 0.9521 - val_loss: 0.1752 - val_accuracy: 0.9375\n",
            "Epoch 4/50\n",
            "32/32 [==============================] - 9s 267ms/step - loss: 0.1013 - accuracy: 0.9641 - val_loss: 0.1137 - val_accuracy: 0.9545\n",
            "Epoch 5/50\n",
            "32/32 [==============================] - 9s 276ms/step - loss: 0.0944 - accuracy: 0.9621 - val_loss: 0.4745 - val_accuracy: 0.8409\n",
            "Epoch 6/50\n",
            "32/32 [==============================] - 9s 266ms/step - loss: 0.0833 - accuracy: 0.9760 - val_loss: 0.7222 - val_accuracy: 0.7784\n",
            "Epoch 7/50\n",
            "32/32 [==============================] - 9s 266ms/step - loss: 0.1387 - accuracy: 0.9401 - val_loss: 0.5537 - val_accuracy: 0.8239\n",
            "Epoch 8/50\n",
            "32/32 [==============================] - 9s 266ms/step - loss: 0.1277 - accuracy: 0.9461 - val_loss: 0.3654 - val_accuracy: 0.8693\n",
            "Epoch 9/50\n",
            "32/32 [==============================] - 8s 265ms/step - loss: 0.0962 - accuracy: 0.9581 - val_loss: 0.6220 - val_accuracy: 0.7841\n",
            "Epoch 10/50\n",
            "32/32 [==============================] - 9s 266ms/step - loss: 0.1046 - accuracy: 0.9621 - val_loss: 0.2548 - val_accuracy: 0.9034\n",
            "Epoch 11/50\n",
            "32/32 [==============================] - 9s 267ms/step - loss: 0.1028 - accuracy: 0.9601 - val_loss: 0.4595 - val_accuracy: 0.7955\n",
            "Epoch 12/50\n",
            "32/32 [==============================] - 9s 267ms/step - loss: 0.1252 - accuracy: 0.9561 - val_loss: 0.2460 - val_accuracy: 0.8920\n",
            "Epoch 13/50\n",
            "32/32 [==============================] - 9s 267ms/step - loss: 0.0821 - accuracy: 0.9721 - val_loss: 0.3422 - val_accuracy: 0.8750\n",
            "Epoch 14/50\n",
            "32/32 [==============================] - 9s 267ms/step - loss: 0.0737 - accuracy: 0.9701 - val_loss: 0.3342 - val_accuracy: 0.8807\n",
            "Epoch 15/50\n",
            "32/32 [==============================] - 9s 267ms/step - loss: 0.0692 - accuracy: 0.9701 - val_loss: 0.5104 - val_accuracy: 0.8239\n",
            "Epoch 16/50\n",
            "32/32 [==============================] - 9s 270ms/step - loss: 0.0844 - accuracy: 0.9760 - val_loss: 0.1850 - val_accuracy: 0.9205\n",
            "Epoch 17/50\n",
            "32/32 [==============================] - 9s 268ms/step - loss: 0.0901 - accuracy: 0.9561 - val_loss: 0.4678 - val_accuracy: 0.8239\n",
            "Epoch 18/50\n",
            "32/32 [==============================] - 8s 265ms/step - loss: 0.1070 - accuracy: 0.9601 - val_loss: 0.5046 - val_accuracy: 0.7784\n",
            "Epoch 19/50\n",
            "32/32 [==============================] - 9s 269ms/step - loss: 0.0719 - accuracy: 0.9661 - val_loss: 0.4958 - val_accuracy: 0.8182\n",
            "Epoch 20/50\n",
            "32/32 [==============================] - 9s 267ms/step - loss: 0.1014 - accuracy: 0.9561 - val_loss: 0.1176 - val_accuracy: 0.9602\n",
            "Epoch 21/50\n",
            "32/32 [==============================] - 9s 267ms/step - loss: 0.0650 - accuracy: 0.9820 - val_loss: 0.4155 - val_accuracy: 0.8409\n",
            "Epoch 22/50\n",
            "32/32 [==============================] - 9s 267ms/step - loss: 0.0914 - accuracy: 0.9590 - val_loss: 0.3585 - val_accuracy: 0.8750\n",
            "Epoch 23/50\n",
            "32/32 [==============================] - 9s 266ms/step - loss: 0.0545 - accuracy: 0.9820 - val_loss: 0.6222 - val_accuracy: 0.7955\n",
            "Epoch 24/50\n",
            "32/32 [==============================] - 9s 268ms/step - loss: 0.1316 - accuracy: 0.9570 - val_loss: 0.1914 - val_accuracy: 0.9034\n",
            "Epoch 25/50\n",
            "32/32 [==============================] - 9s 267ms/step - loss: 0.0878 - accuracy: 0.9601 - val_loss: 0.4714 - val_accuracy: 0.8182\n",
            "Epoch 26/50\n",
            "32/32 [==============================] - 9s 268ms/step - loss: 0.0607 - accuracy: 0.9760 - val_loss: 0.6009 - val_accuracy: 0.7670\n",
            "Epoch 27/50\n",
            "32/32 [==============================] - 9s 270ms/step - loss: 0.0774 - accuracy: 0.9701 - val_loss: 0.5587 - val_accuracy: 0.7898\n",
            "Epoch 28/50\n",
            "32/32 [==============================] - 9s 267ms/step - loss: 0.0817 - accuracy: 0.9661 - val_loss: 0.2884 - val_accuracy: 0.8864\n",
            "Epoch 29/50\n",
            "32/32 [==============================] - 9s 268ms/step - loss: 0.0917 - accuracy: 0.9681 - val_loss: 0.2956 - val_accuracy: 0.8920\n",
            "Epoch 30/50\n",
            "32/32 [==============================] - 9s 266ms/step - loss: 0.0531 - accuracy: 0.9820 - val_loss: 0.3284 - val_accuracy: 0.8807\n",
            "Epoch 31/50\n",
            "32/32 [==============================] - 9s 268ms/step - loss: 0.0936 - accuracy: 0.9601 - val_loss: 0.5308 - val_accuracy: 0.8068\n",
            "Epoch 32/50\n",
            "32/32 [==============================] - 9s 268ms/step - loss: 0.0796 - accuracy: 0.9701 - val_loss: 0.3303 - val_accuracy: 0.8807\n",
            "Epoch 33/50\n",
            "32/32 [==============================] - 9s 272ms/step - loss: 0.1039 - accuracy: 0.9661 - val_loss: 0.2134 - val_accuracy: 0.9034\n",
            "Epoch 34/50\n",
            "32/32 [==============================] - 9s 269ms/step - loss: 0.0722 - accuracy: 0.9701 - val_loss: 0.1783 - val_accuracy: 0.9261\n",
            "Epoch 35/50\n",
            "32/32 [==============================] - 9s 271ms/step - loss: 0.0616 - accuracy: 0.9780 - val_loss: 0.5121 - val_accuracy: 0.8352\n",
            "Epoch 36/50\n",
            "32/32 [==============================] - 9s 270ms/step - loss: 0.0520 - accuracy: 0.9840 - val_loss: 0.3638 - val_accuracy: 0.8807\n",
            "Epoch 37/50\n",
            "32/32 [==============================] - 9s 270ms/step - loss: 0.0684 - accuracy: 0.9707 - val_loss: 0.3600 - val_accuracy: 0.8864\n",
            "Epoch 38/50\n",
            "32/32 [==============================] - 9s 269ms/step - loss: 0.0792 - accuracy: 0.9661 - val_loss: 0.2890 - val_accuracy: 0.8750\n",
            "Epoch 39/50\n",
            "32/32 [==============================] - 9s 271ms/step - loss: 0.0828 - accuracy: 0.9741 - val_loss: 0.3730 - val_accuracy: 0.8523\n",
            "Epoch 40/50\n",
            "32/32 [==============================] - 9s 269ms/step - loss: 0.0656 - accuracy: 0.9780 - val_loss: 0.6096 - val_accuracy: 0.7898\n",
            "Epoch 41/50\n",
            "32/32 [==============================] - 9s 270ms/step - loss: 0.0724 - accuracy: 0.9661 - val_loss: 0.5073 - val_accuracy: 0.8580\n",
            "Epoch 42/50\n",
            "32/32 [==============================] - 9s 272ms/step - loss: 0.0527 - accuracy: 0.9800 - val_loss: 0.5344 - val_accuracy: 0.8693\n",
            "Epoch 43/50\n",
            "32/32 [==============================] - 9s 272ms/step - loss: 0.0628 - accuracy: 0.9805 - val_loss: 0.3378 - val_accuracy: 0.8864\n",
            "Epoch 44/50\n",
            "32/32 [==============================] - 9s 269ms/step - loss: 0.0765 - accuracy: 0.9780 - val_loss: 0.6107 - val_accuracy: 0.8409\n",
            "Epoch 45/50\n",
            "32/32 [==============================] - 9s 270ms/step - loss: 0.0649 - accuracy: 0.9780 - val_loss: 0.3502 - val_accuracy: 0.8807\n",
            "Epoch 46/50\n",
            "32/32 [==============================] - 9s 270ms/step - loss: 0.0537 - accuracy: 0.9780 - val_loss: 0.4011 - val_accuracy: 0.8352\n",
            "Epoch 47/50\n",
            "32/32 [==============================] - 9s 269ms/step - loss: 0.0583 - accuracy: 0.9800 - val_loss: 0.3893 - val_accuracy: 0.8693\n",
            "Epoch 48/50\n",
            "32/32 [==============================] - 9s 271ms/step - loss: 0.0533 - accuracy: 0.9863 - val_loss: 0.4229 - val_accuracy: 0.8693\n",
            "Epoch 49/50\n",
            "32/32 [==============================] - 9s 270ms/step - loss: 0.0593 - accuracy: 0.9820 - val_loss: 0.3814 - val_accuracy: 0.8750\n",
            "Epoch 50/50\n",
            "32/32 [==============================] - 9s 271ms/step - loss: 0.0811 - accuracy: 0.9721 - val_loss: 0.4854 - val_accuracy: 0.8636\n"
          ],
          "name": "stdout"
        },
        {
          "output_type": "execute_result",
          "data": {
            "text/plain": [
              "<tensorflow.python.keras.callbacks.History at 0x7feb1ee456d8>"
            ]
          },
          "metadata": {
            "tags": []
          },
          "execution_count": 37
        }
      ]
    },
    {
      "cell_type": "code",
      "metadata": {
        "id": "F85QNc0VvFAE",
        "colab_type": "code",
        "colab": {
          "base_uri": "https://localhost:8080/",
          "height": 607
        },
        "outputId": "8f60ddbb-e869-4b3a-9e78-4a662f49bed4"
      },
      "source": [
        "acc = history.history['accuracy']\n",
        "val_acc = history.history['val_accuracy']\n",
        "\n",
        "loss=history.history['loss']\n",
        "val_loss=history.history['val_loss']\n",
        "\n",
        "epochs_range = range(epochs)\n",
        "\n",
        "plt.figure(figsize=(15, 10))\n",
        "plt.subplot(1, 2, 1)\n",
        "plt.plot(epochs_range, acc, label='Training Accuracy')\n",
        "plt.plot(epochs_range, val_acc, label='Validation Accuracy')\n",
        "plt.legend(loc='lower right')\n",
        "plt.title('Training and Validation Accuracy')\n",
        "\n",
        "plt.subplot(1, 2, 2)\n",
        "plt.plot(epochs_range, loss, label='Training Loss')\n",
        "plt.plot(epochs_range, val_loss, label='Validation Loss')\n",
        "plt.legend(loc='upper right')\n",
        "plt.title('Training and Validation Loss')\n",
        "plt.show()"
      ],
      "execution_count": 38,
      "outputs": [
        {
          "output_type": "display_data",
          "data": {
            "image/png": "[encoded data removed]",
            "text/plain": [
              "<Figure size 1080x720 with 2 Axes>"
            ]
          },
          "metadata": {
            "tags": [],
            "needs_background": "light"
          }
        }
      ]
    },
    {
      "cell_type": "markdown",
      "metadata": {
        "id": "8LGahQ0U6Th0",
        "colab_type": "text"
      },
      "source": [
        "# Custom CNN Model with Image Manipulations\n",
        "\n",
        "To simulate an increase in a sample of image, you can apply image manipulation techniques: cropping, rotation, stretching, etc. Luckily Keras has some handy functions for us to apply these techniques to our mountain and forest example. Simply, you should be able to modify our image generator for the problem. Check out these resources to help you get started: \n",
        "\n",
        "1. [Keras `ImageGenerator` Class](https://keras.io/preprocessing/image/#imagedatagenerator-class)\n",
        "2. [Building a powerful image classifier with very little data](https://blog.keras.io/building-powerful-image-classification-models-using-very-little-data.html)\n",
        " "
      ]
    },
    {
      "cell_type": "code",
      "metadata": {
        "id": "6jBqii1l6Th1",
        "colab_type": "code",
        "colab": {}
      },
      "source": [
        "image_gen_train = ImageDataGenerator(\n",
        "                    rescale=1./255,\n",
        "                    rotation_range=45,\n",
        "                    width_shift_range=.15,\n",
        "                    height_shift_range=.15,\n",
        "                    horizontal_flip=True,\n",
        "                    zoom_range=0.5\n",
        "                    )"
      ],
      "execution_count": 39,
      "outputs": []
    },
    {
      "cell_type": "code",
      "metadata": {
        "id": "4RXcR8JTvL9A",
        "colab_type": "code",
        "colab": {
          "base_uri": "https://localhost:8080/",
          "height": 34
        },
        "outputId": "57351f74-2c24-491d-e660-b3f5b9b32f23"
      },
      "source": [
        "train_data_gen = image_gen_train.flow_from_directory(batch_size=batch_size,\n",
        "                                                     directory=train_dir,\n",
        "                                                     shuffle=True,\n",
        "                                                     target_size=(IMG_HEIGHT, IMG_WIDTH),\n",
        "                                                     class_mode='binary')"
      ],
      "execution_count": 40,
      "outputs": [
        {
          "output_type": "stream",
          "text": [
            "Found 533 images belonging to 2 classes.\n"
          ],
          "name": "stdout"
        }
      ]
    },
    {
      "cell_type": "code",
      "metadata": {
        "id": "SSxgFgdlvMFO",
        "colab_type": "code",
        "colab": {
          "base_uri": "https://localhost:8080/",
          "height": 34
        },
        "outputId": "736866d4-14eb-4d3e-ce3d-74c26c93ba36"
      },
      "source": [
        "image_gen_val = ImageDataGenerator(rescale=1./255)\n",
        "val_data_gen = image_gen_val.flow_from_directory(batch_size=batch_size,\n",
        "                                                 directory=validation_dir,\n",
        "                                                 target_size=(IMG_HEIGHT, IMG_WIDTH),\n",
        "                                                 class_mode='binary')"
      ],
      "execution_count": 41,
      "outputs": [
        {
          "output_type": "stream",
          "text": [
            "Found 195 images belonging to 2 classes.\n"
          ],
          "name": "stdout"
        }
      ]
    },
    {
      "cell_type": "code",
      "metadata": {
        "id": "ZB-u_HBCvMCn",
        "colab_type": "code",
        "colab": {
          "base_uri": "https://localhost:8080/",
          "height": 459
        },
        "outputId": "4eda13f2-4b7b-43ab-f6f4-e176399354fd"
      },
      "source": [
        "model = Sequential([\n",
        "    Conv2D(128, 3, padding='same', activation='relu', input_shape=(IMG_HEIGHT, IMG_WIDTH ,3)),\n",
        "    MaxPooling2D(),\n",
        "    Conv2D(64, 3, padding='same', activation='relu'),\n",
        "    MaxPooling2D(),\n",
        "    Conv2D(32, 3, padding='same', activation='relu'),\n",
        "    MaxPooling2D(),\n",
        "    Flatten(),\n",
        "    Dense(1024, activation='relu'),\n",
        "    Dense(1, activation='sigmoid')\n",
        "])\n",
        "\n",
        "model.summary()"
      ],
      "execution_count": 42,
      "outputs": [
        {
          "output_type": "stream",
          "text": [
            "Model: \"sequential_3\"\n",
            "_________________________________________________________________\n",
            "Layer (type)                 Output Shape              Param #   \n",
            "=================================================================\n",
            "conv2d_7 (Conv2D)            (None, 224, 224, 128)     3584      \n",
            "_________________________________________________________________\n",
            "max_pooling2d_5 (MaxPooling2 (None, 112, 112, 128)     0         \n",
            "_________________________________________________________________\n",
            "conv2d_8 (Conv2D)            (None, 112, 112, 64)      73792     \n",
            "_________________________________________________________________\n",
            "max_pooling2d_6 (MaxPooling2 (None, 56, 56, 64)        0         \n",
            "_________________________________________________________________\n",
            "conv2d_9 (Conv2D)            (None, 56, 56, 32)        18464     \n",
            "_________________________________________________________________\n",
            "max_pooling2d_7 (MaxPooling2 (None, 28, 28, 32)        0         \n",
            "_________________________________________________________________\n",
            "flatten_2 (Flatten)          (None, 25088)             0         \n",
            "_________________________________________________________________\n",
            "dense_6 (Dense)              (None, 1024)              25691136  \n",
            "_________________________________________________________________\n",
            "dense_7 (Dense)              (None, 1)                 1025      \n",
            "=================================================================\n",
            "Total params: 25,788,001\n",
            "Trainable params: 25,788,001\n",
            "Non-trainable params: 0\n",
            "_________________________________________________________________\n"
          ],
          "name": "stdout"
        }
      ]
    },
    {
      "cell_type": "code",
      "metadata": {
        "id": "bh9WM4nDvL_6",
        "colab_type": "code",
        "colab": {}
      },
      "source": [
        "model.compile(optimizer='adamax',\n",
        "              loss=\"binary_crossentropy\",\n",
        "              metrics=['accuracy'])"
      ],
      "execution_count": 43,
      "outputs": []
    },
    {
      "cell_type": "code",
      "metadata": {
        "id": "gNoLQ1gjvnnL",
        "colab_type": "code",
        "colab": {
          "base_uri": "https://localhost:8080/",
          "height": 1000
        },
        "outputId": "a06f8378-0d46-4b83-d539-8d3d4258b167"
      },
      "source": [
        "model.fit_generator(\n",
        "    train_data_gen,\n",
        "    steps_per_epoch=total_train // batch_size,\n",
        "    epochs=epochs,\n",
        "    validation_data=val_data_gen,\n",
        "    validation_steps=total_val // batch_size\n",
        ")\n"
      ],
      "execution_count": 44,
      "outputs": [
        {
          "output_type": "stream",
          "text": [
            "Epoch 1/50\n",
            "32/32 [==============================] - 9s 276ms/step - loss: 0.5551 - accuracy: 0.7465 - val_loss: 0.7235 - val_accuracy: 0.7045\n",
            "Epoch 2/50\n",
            "32/32 [==============================] - 9s 268ms/step - loss: 0.2799 - accuracy: 0.8922 - val_loss: 0.6238 - val_accuracy: 0.7045\n",
            "Epoch 3/50\n",
            "32/32 [==============================] - 9s 271ms/step - loss: 0.2522 - accuracy: 0.8962 - val_loss: 0.6423 - val_accuracy: 0.7443\n",
            "Epoch 4/50\n",
            "32/32 [==============================] - 9s 267ms/step - loss: 0.2448 - accuracy: 0.8982 - val_loss: 0.2313 - val_accuracy: 0.9034\n",
            "Epoch 5/50\n",
            "32/32 [==============================] - 9s 269ms/step - loss: 0.1937 - accuracy: 0.9202 - val_loss: 0.3081 - val_accuracy: 0.8352\n",
            "Epoch 6/50\n",
            "32/32 [==============================] - 9s 270ms/step - loss: 0.2151 - accuracy: 0.9122 - val_loss: 0.6976 - val_accuracy: 0.6761\n",
            "Epoch 7/50\n",
            "32/32 [==============================] - 9s 270ms/step - loss: 0.2097 - accuracy: 0.9182 - val_loss: 0.3172 - val_accuracy: 0.8693\n",
            "Epoch 8/50\n",
            "32/32 [==============================] - 9s 270ms/step - loss: 0.1716 - accuracy: 0.9421 - val_loss: 0.3907 - val_accuracy: 0.8182\n",
            "Epoch 9/50\n",
            "32/32 [==============================] - 9s 267ms/step - loss: 0.2328 - accuracy: 0.9042 - val_loss: 0.4806 - val_accuracy: 0.7841\n",
            "Epoch 10/50\n",
            "32/32 [==============================] - 9s 269ms/step - loss: 0.2139 - accuracy: 0.9142 - val_loss: 0.4666 - val_accuracy: 0.7670\n",
            "Epoch 11/50\n",
            "32/32 [==============================] - 9s 269ms/step - loss: 0.1819 - accuracy: 0.9381 - val_loss: 0.2773 - val_accuracy: 0.8807\n",
            "Epoch 12/50\n",
            "32/32 [==============================] - 9s 268ms/step - loss: 0.2242 - accuracy: 0.9222 - val_loss: 0.4130 - val_accuracy: 0.8466\n",
            "Epoch 13/50\n",
            "32/32 [==============================] - 9s 269ms/step - loss: 0.1987 - accuracy: 0.9301 - val_loss: 0.2201 - val_accuracy: 0.9148\n",
            "Epoch 14/50\n",
            "32/32 [==============================] - 9s 270ms/step - loss: 0.1575 - accuracy: 0.9381 - val_loss: 0.5138 - val_accuracy: 0.7955\n",
            "Epoch 15/50\n",
            "32/32 [==============================] - 9s 269ms/step - loss: 0.1592 - accuracy: 0.9481 - val_loss: 0.5273 - val_accuracy: 0.8068\n",
            "Epoch 16/50\n",
            "32/32 [==============================] - 9s 269ms/step - loss: 0.1756 - accuracy: 0.9182 - val_loss: 0.2060 - val_accuracy: 0.9318\n",
            "Epoch 17/50\n",
            "32/32 [==============================] - 9s 269ms/step - loss: 0.1793 - accuracy: 0.9261 - val_loss: 0.2795 - val_accuracy: 0.8693\n",
            "Epoch 18/50\n",
            "32/32 [==============================] - 9s 270ms/step - loss: 0.1832 - accuracy: 0.9401 - val_loss: 0.4550 - val_accuracy: 0.8125\n",
            "Epoch 19/50\n",
            "32/32 [==============================] - 9s 270ms/step - loss: 0.1358 - accuracy: 0.9441 - val_loss: 0.7043 - val_accuracy: 0.6932\n",
            "Epoch 20/50\n",
            "32/32 [==============================] - 9s 270ms/step - loss: 0.1793 - accuracy: 0.9261 - val_loss: 0.3793 - val_accuracy: 0.7670\n",
            "Epoch 21/50\n",
            "32/32 [==============================] - 9s 269ms/step - loss: 0.1636 - accuracy: 0.9341 - val_loss: 0.9824 - val_accuracy: 0.6023\n",
            "Epoch 22/50\n",
            "32/32 [==============================] - 9s 270ms/step - loss: 0.1835 - accuracy: 0.9122 - val_loss: 0.3496 - val_accuracy: 0.8693\n",
            "Epoch 23/50\n",
            "32/32 [==============================] - 9s 270ms/step - loss: 0.1603 - accuracy: 0.9261 - val_loss: 0.2409 - val_accuracy: 0.8920\n",
            "Epoch 24/50\n",
            "32/32 [==============================] - 9s 270ms/step - loss: 0.1220 - accuracy: 0.9461 - val_loss: 0.5848 - val_accuracy: 0.7727\n",
            "Epoch 25/50\n",
            "32/32 [==============================] - 9s 269ms/step - loss: 0.1499 - accuracy: 0.9481 - val_loss: 0.6858 - val_accuracy: 0.7216\n",
            "Epoch 26/50\n",
            "32/32 [==============================] - 9s 269ms/step - loss: 0.1537 - accuracy: 0.9261 - val_loss: 0.2132 - val_accuracy: 0.9205\n",
            "Epoch 27/50\n",
            "32/32 [==============================] - 9s 276ms/step - loss: 0.1543 - accuracy: 0.9512 - val_loss: 0.2786 - val_accuracy: 0.8920\n",
            "Epoch 28/50\n",
            "32/32 [==============================] - 9s 270ms/step - loss: 0.1105 - accuracy: 0.9661 - val_loss: 0.4650 - val_accuracy: 0.8011\n",
            "Epoch 29/50\n",
            "32/32 [==============================] - 9s 269ms/step - loss: 0.1855 - accuracy: 0.9341 - val_loss: 0.3204 - val_accuracy: 0.8636\n",
            "Epoch 30/50\n",
            "32/32 [==============================] - 9s 270ms/step - loss: 0.1104 - accuracy: 0.9561 - val_loss: 0.3336 - val_accuracy: 0.8636\n",
            "Epoch 31/50\n",
            "32/32 [==============================] - 9s 270ms/step - loss: 0.1255 - accuracy: 0.9461 - val_loss: 0.3262 - val_accuracy: 0.8693\n",
            "Epoch 32/50\n",
            "32/32 [==============================] - 9s 271ms/step - loss: 0.1231 - accuracy: 0.9501 - val_loss: 0.4548 - val_accuracy: 0.7955\n",
            "Epoch 33/50\n",
            "32/32 [==============================] - 9s 269ms/step - loss: 0.1209 - accuracy: 0.9481 - val_loss: 0.4288 - val_accuracy: 0.8182\n",
            "Epoch 34/50\n",
            "32/32 [==============================] - 9s 269ms/step - loss: 0.1090 - accuracy: 0.9601 - val_loss: 0.3147 - val_accuracy: 0.8977\n",
            "Epoch 35/50\n",
            "32/32 [==============================] - 9s 271ms/step - loss: 0.1208 - accuracy: 0.9501 - val_loss: 0.3715 - val_accuracy: 0.8466\n",
            "Epoch 36/50\n",
            "32/32 [==============================] - 9s 272ms/step - loss: 0.1081 - accuracy: 0.9581 - val_loss: 0.3153 - val_accuracy: 0.8920\n",
            "Epoch 37/50\n",
            "32/32 [==============================] - 9s 269ms/step - loss: 0.1258 - accuracy: 0.9561 - val_loss: 0.2471 - val_accuracy: 0.8920\n",
            "Epoch 38/50\n",
            "32/32 [==============================] - 9s 269ms/step - loss: 0.1400 - accuracy: 0.9441 - val_loss: 0.4712 - val_accuracy: 0.7784\n",
            "Epoch 39/50\n",
            "32/32 [==============================] - 9s 268ms/step - loss: 0.1173 - accuracy: 0.9561 - val_loss: 0.2597 - val_accuracy: 0.8920\n",
            "Epoch 40/50\n",
            "32/32 [==============================] - 9s 269ms/step - loss: 0.1140 - accuracy: 0.9601 - val_loss: 0.4076 - val_accuracy: 0.8295\n",
            "Epoch 41/50\n",
            "32/32 [==============================] - 9s 268ms/step - loss: 0.0978 - accuracy: 0.9641 - val_loss: 0.3588 - val_accuracy: 0.8295\n",
            "Epoch 42/50\n",
            "32/32 [==============================] - 9s 269ms/step - loss: 0.1224 - accuracy: 0.9501 - val_loss: 0.2290 - val_accuracy: 0.8977\n",
            "Epoch 43/50\n",
            "32/32 [==============================] - 9s 269ms/step - loss: 0.1088 - accuracy: 0.9601 - val_loss: 0.3447 - val_accuracy: 0.8693\n",
            "Epoch 44/50\n",
            "32/32 [==============================] - 9s 270ms/step - loss: 0.0860 - accuracy: 0.9661 - val_loss: 0.2783 - val_accuracy: 0.8920\n",
            "Epoch 45/50\n",
            "32/32 [==============================] - 9s 269ms/step - loss: 0.1090 - accuracy: 0.9621 - val_loss: 0.5102 - val_accuracy: 0.7955\n",
            "Epoch 46/50\n",
            "32/32 [==============================] - 9s 269ms/step - loss: 0.1137 - accuracy: 0.9541 - val_loss: 0.3381 - val_accuracy: 0.8693\n",
            "Epoch 47/50\n",
            "32/32 [==============================] - 9s 269ms/step - loss: 0.1066 - accuracy: 0.9621 - val_loss: 0.3351 - val_accuracy: 0.8466\n",
            "Epoch 48/50\n",
            "32/32 [==============================] - 9s 268ms/step - loss: 0.0844 - accuracy: 0.9721 - val_loss: 0.3194 - val_accuracy: 0.8750\n",
            "Epoch 49/50\n",
            "32/32 [==============================] - 9s 268ms/step - loss: 0.0861 - accuracy: 0.9721 - val_loss: 0.3622 - val_accuracy: 0.8636\n",
            "Epoch 50/50\n",
            "32/32 [==============================] - 9s 269ms/step - loss: 0.1085 - accuracy: 0.9531 - val_loss: 0.3851 - val_accuracy: 0.8523\n"
          ],
          "name": "stdout"
        },
        {
          "output_type": "execute_result",
          "data": {
            "text/plain": [
              "<tensorflow.python.keras.callbacks.History at 0x7feb1b950828>"
            ]
          },
          "metadata": {
            "tags": []
          },
          "execution_count": 44
        }
      ]
    },
    {
      "cell_type": "markdown",
      "metadata": {
        "colab_type": "text",
        "id": "uT3UV3gap9H6"
      },
      "source": [
        "# Resources and Stretch Goals\n",
        "\n",
        "Stretch goals\n",
        "- Enhance your code to use classes/functions and accept terms to search and classes to look for in recognizing the downloaded images (e.g. download images of parties, recognize all that contain balloons)\n",
        "- Check out [other available pretrained networks](https://tfhub.dev), try some and compare\n",
        "- Image recognition/classification is somewhat solved, but *relationships* between entities and describing an image is not - check out some of the extended resources (e.g. [Visual Genome](https://visualgenome.org/)) on the topic\n",
        "- Transfer learning - using images you source yourself, [retrain a classifier](https://www.tensorflow.org/hub/tutorials/image_retraining) with a new category\n",
        "- (Not CNN related) Use [piexif](https://pypi.org/project/piexif/) to check out the metadata of images passed in to your system - see if they're from a national park! (Note - many images lack GPS metadata, so this won't work in most cases, but still cool)\n",
        "\n",
        "Resources\n",
        "- [Deep Residual Learning for Image Recognition](https://arxiv.org/abs/1512.03385) - influential paper (introduced ResNet)\n",
        "- [YOLO: Real-Time Object Detection](https://pjreddie.com/darknet/yolo/) - an influential convolution based object detection system, focused on inference speed (for applications to e.g. self driving vehicles)\n",
        "- [R-CNN, Fast R-CNN, Faster R-CNN, YOLO](https://towardsdatascience.com/r-cnn-fast-r-cnn-faster-r-cnn-yolo-object-detection-algorithms-36d53571365e) - comparison of object detection systems\n",
        "- [Common Objects in Context](http://cocodataset.org/) - a large-scale object detection, segmentation, and captioning dataset\n",
        "- [Visual Genome](https://visualgenome.org/) - a dataset, a knowledge base, an ongoing effort to connect structured image concepts to language"
      ]
    }
  ]
}